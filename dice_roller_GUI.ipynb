{
 "cells": [
  {
   "cell_type": "code",
   "execution_count": 1,
   "id": "3b3f10ba",
   "metadata": {},
   "outputs": [],
   "source": [
    "import tkinter as tk\n",
    "import random\n",
    "\n",
    "\n",
    "def roll_dice():\n",
    "    dice_value = random.randint(1, 6)\n",
    "    label_result.config(text=f\"You rolled a {dice_value}!\") # type: ignore\n",
    "    dice_label.config(text=dice_unicode[dice_value]) # type: ignore\n",
    "    \n",
    "\n",
    "# Unicode characters for dice faces\n",
    "dice_unicode = {\n",
    "    1: \"\\u2680\",  \n",
    "    2: \"\\u2681\",                                                                          \n",
    "    3: \"\\u2682\",  \n",
    "    4: \"\\u2683\",  \n",
    "    5: \"\\u2684\",  \n",
    "    6: \"\\u2685\"   \n",
    "}\n",
    "\n",
    "\n",
    "\n",
    "#  Create the main window\n",
    "root = tk.Tk()\n",
    "root.title(\"Dice Roller Game\")\n",
    "root.geometry(\"300x200\")\n",
    "\n",
    "\n",
    "# Dice face display\n",
    "\n",
    "dice_label = tk.Label(root, text=\"\", font=(\"Helvetica\", 100))\n",
    "dice_label.pack(pady=20)\n",
    "\n",
    "\n",
    "# Result text display\n",
    "\n",
    "label_result = tk.Label(root, text=\"Click to roll the dice\", font=(\"Helvetica\", 14))\n",
    "label_result.pack()\n",
    "\n",
    "#Roll button\n",
    "roll_button = tk.Button(root, text=\"Roll Dice\", command=roll_dice, font=(\"Helvetica\", 12))\n",
    "roll_button.pack()\n",
    "\n",
    "\n",
    "\n",
    "# Run the GUI loop\n",
    "root.mainloop()"
   ]
  }
 ],
 "metadata": {
  "kernelspec": {
   "display_name": "base",
   "language": "python",
   "name": "python3"
  },
  "language_info": {
   "codemirror_mode": {
    "name": "ipython",
    "version": 3
   },
   "file_extension": ".py",
   "mimetype": "text/x-python",
   "name": "python",
   "nbconvert_exporter": "python",
   "pygments_lexer": "ipython3",
   "version": "3.13.5"
  }
 },
 "nbformat": 4,
 "nbformat_minor": 5
}
