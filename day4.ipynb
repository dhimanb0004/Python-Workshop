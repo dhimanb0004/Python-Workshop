{
 "cells": [
  {
   "cell_type": "markdown",
   "id": "f7ce8b6d",
   "metadata": {},
   "source": [
    "### #Creating a Panada Data Frame from a dictionary"
   ]
  },
  {
   "cell_type": "code",
   "execution_count": 1,
   "id": "a156c7f6",
   "metadata": {},
   "outputs": [
    {
     "name": "stdout",
     "output_type": "stream",
     "text": [
      "2.3.1\n",
      "    cars  passings\n",
      "0    BMW         3\n",
      "1  Volvo         7\n",
      "2   Ford         2\n"
     ]
    }
   ],
   "source": [
    "import pandas as pd\n",
    "print(pd.__version__)\n",
    "mydataset = {\n",
    "    'cars': ['BMW', 'Volvo', 'Ford'],\n",
    "    'passings': [3, 7, 2],\n",
    "}\n",
    "\n",
    "myvar = pd.DataFrame(mydataset)\n",
    "print(myvar)\n",
    "\n"
   ]
  },
  {
   "cell_type": "markdown",
   "id": "9519ee9d",
   "metadata": {},
   "source": [
    "### #Create a simple Pandas Series from a dictionary "
   ]
  },
  {
   "cell_type": "code",
   "execution_count": 2,
   "id": "9ce76fad",
   "metadata": {},
   "outputs": [
    {
     "name": "stdout",
     "output_type": "stream",
     "text": [
      "day1    420\n",
      "day2    380\n",
      "day3    390\n",
      "dtype: int64\n"
     ]
    }
   ],
   "source": [
    "import pandas as pd \n",
    "calories = {\n",
    "    \"day1\": 420,\n",
    "    \"day2\": 380,\n",
    "    \"day3\": 390,\n",
    "}\n",
    "\n",
    "myvar = pd.Series(calories)\n",
    "print(myvar)\n"
   ]
  },
  {
   "cell_type": "code",
   "execution_count": null,
   "id": "cb06fdad",
   "metadata": {},
   "outputs": [],
   "source": [
    "line = input(\"Enter a string: \")\n",
    "\n",
    "words = line.split()\n",
    "\n",
    "print(words)\n",
    "\n",
    "alpha = []\n",
    "num = []\n",
    "alpha_num = []\n",
    "special_char = []\n",
    "\n",
    "c_alpha = 0\n",
    "c_num = 0\n",
    "c_alpha_num = 0\n",
    "c_special_char = 0\n",
    "\n",
    "for word in words:\n",
    "    if word.isalpha():\n",
    "        alpha.append(word)\n",
    "        c_alpha += 1\n",
    "    \n",
    "    elif word.isdigit():\n",
    "        num.append(word)\n",
    "        c_num += 1\n",
    "    \n",
    "    elif word.isalnum():\n",
    "        alpha_num.append(word)\n",
    "        c_alpha_num += 1\n",
    "        \n",
    "    else:\n",
    "        special_char.append(word)\n",
    "        c_special_char += 1\n",
    "\n",
    "print(\"\\nAlphabets:\", alpha, c_alpha)\n",
    "print(\"\\nNumbers:\", num, c_num)\n",
    "print(\"\\nAlphanumeric:\", alpha_num, c_alpha_num)\n",
    "print(\"\\nSpecial Characters:\", special_char, c_special_char)\n",
    "\n",
    "\n",
    "conc_num = \"\".join(num)\n",
    "    \n",
    "print(\"\\nConcatenated number string is: \", conc_num)\n",
    "\n",
    "sum_digits = 0\n",
    "for digit in conc_num:\n",
    "    sum_digits = sum_digits + int(digit)\n",
    "\n",
    "print(\"\\nSum of digits in concatenated number string is:\", sum_digits)\n",
    "\n",
    "\n",
    "\n"
   ]
  }
 ],
 "metadata": {
  "kernelspec": {
   "display_name": "base",
   "language": "python",
   "name": "python3"
  },
  "language_info": {
   "codemirror_mode": {
    "name": "ipython",
    "version": 3
   },
   "file_extension": ".py",
   "mimetype": "text/x-python",
   "name": "python",
   "nbconvert_exporter": "python",
   "pygments_lexer": "ipython3",
   "version": "3.13.5"
  }
 },
 "nbformat": 4,
 "nbformat_minor": 5
}
